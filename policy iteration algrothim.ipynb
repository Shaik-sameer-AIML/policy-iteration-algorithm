{
  "cells": [
    {
      "cell_type": "code",
      "source": [
        "pip install git+https://github.com/mimoralea/gym-walk#egg=gym-walk\n"
      ],
      "metadata": {
        "id": "JKMFhaMxo1z3",
        "outputId": "93714a0a-84ee-4a57-9b76-3f28c52a9ce6",
        "colab": {
          "base_uri": "https://localhost:8080/"
        }
      },
      "execution_count": 1,
      "outputs": [
        {
          "output_type": "stream",
          "name": "stdout",
          "text": [
            "Collecting gym-walk\n",
            "  Cloning https://github.com/mimoralea/gym-walk to /tmp/pip-install-jr2aydwk/gym-walk_91979e59a84a45a892b7f7ec6ce26c70\n",
            "  Running command git clone --filter=blob:none --quiet https://github.com/mimoralea/gym-walk /tmp/pip-install-jr2aydwk/gym-walk_91979e59a84a45a892b7f7ec6ce26c70\n",
            "  Resolved https://github.com/mimoralea/gym-walk to commit 5999016267d6de2f5a63307fb00dfd63de319ac1\n",
            "  Preparing metadata (setup.py) ... \u001b[?25l\u001b[?25hdone\n",
            "Requirement already satisfied: gym in /usr/local/lib/python3.10/dist-packages (from gym-walk) (0.25.2)\n",
            "Requirement already satisfied: numpy>=1.18.0 in /usr/local/lib/python3.10/dist-packages (from gym->gym-walk) (1.23.5)\n",
            "Requirement already satisfied: cloudpickle>=1.2.0 in /usr/local/lib/python3.10/dist-packages (from gym->gym-walk) (2.2.1)\n",
            "Requirement already satisfied: gym-notices>=0.0.4 in /usr/local/lib/python3.10/dist-packages (from gym->gym-walk) (0.0.8)\n",
            "Building wheels for collected packages: gym-walk\n",
            "  Building wheel for gym-walk (setup.py) ... \u001b[?25l\u001b[?25hdone\n",
            "  Created wheel for gym-walk: filename=gym_walk-0.0.2-py3-none-any.whl size=4054 sha256=1c147a41eb21f90ce16c65a61fd4da4bffdc450d2afa4d145c1876402d5a0341\n",
            "  Stored in directory: /tmp/pip-ephem-wheel-cache-0wkmzs5i/wheels/24/fe/c4/0cbc7511d29265bad7e28a09311db3f87f0cafba74af54d530\n",
            "Successfully built gym-walk\n",
            "Installing collected packages: gym-walk\n",
            "Successfully installed gym-walk-0.0.2\n"
          ]
        }
      ]
    },
    {
      "cell_type": "code",
      "source": [
        "import warnings ; warnings.filterwarnings('ignore')\n",
        "\n",
        "import gym, gym_walk\n",
        "import numpy as np\n",
        "\n",
        "import random\n",
        "import warnings\n",
        "\n",
        "warnings.filterwarnings('ignore', category=DeprecationWarning)\n",
        "np.set_printoptions(suppress=True)\n",
        "random.seed(123); np.random.seed(123)\n",
        ""
      ],
      "metadata": {
        "id": "8QSElFado19H"
      },
      "execution_count": 2,
      "outputs": []
    },
    {
      "cell_type": "code",
      "source": [
        "def print_policy(pi, P, action_symbols=('<', 'v', '>', '^'), n_cols=4, title='Policy:'):\n",
        "    print(title)\n",
        "    arrs = {k:v for k,v in enumerate(action_symbols)}\n",
        "    for s in range(len(P)):\n",
        "        a = pi(s)\n",
        "        print(\"| \", end=\"\")\n",
        "        if np.all([done for action in P[s].values() for _, _, _, done in action]):\n",
        "            print(\"\".rjust(9), end=\" \")\n",
        "        else:\n",
        "            print(str(s).zfill(2), arrs[a].rjust(6), end=\" \")\n",
        "        if (s + 1) % n_cols == 0: print(\"|\")"
      ],
      "metadata": {
        "id": "ehTYgC9Ho1_Z"
      },
      "execution_count": 3,
      "outputs": []
    },
    {
      "cell_type": "code",
      "source": [
        "def print_state_value_function(V, P, n_cols=4, prec=3, title='State-value function:'):\n",
        "    print(title)\n",
        "    for s in range(len(P)):\n",
        "        v = V[s]\n",
        "        print(\"| \", end=\"\")\n",
        "        if np.all([done for action in P[s].values() for _, _, _, done in action]):\n",
        "            print(\"\".rjust(9), end=\" \")\n",
        "        else:\n",
        "            print(str(s).zfill(2), '{}'.format(np.round(v, prec)).rjust(6), end=\" \")\n",
        "        if (s + 1) % n_cols == 0: print(\"|\")"
      ],
      "metadata": {
        "id": "Nwf-qE4Xo2Be"
      },
      "execution_count": 4,
      "outputs": []
    },
    {
      "cell_type": "code",
      "source": [
        "def probability_success(env, pi, goal_state, n_episodes=100, max_steps=200):\n",
        "    random.seed(123); np.random.seed(123) ; env.seed(123)\n",
        "    results = []\n",
        "    for _ in range(n_episodes):\n",
        "        state, done, steps = env.reset(), False, 0\n",
        "        while not done and steps < max_steps:\n",
        "            state, _, done, h = env.step(pi(state))\n",
        "            steps += 1\n",
        "        results.append(state == goal_state)\n",
        "    return np.sum(results)/len(results)"
      ],
      "metadata": {
        "id": "Z0943cHno2DS"
      },
      "execution_count": 5,
      "outputs": []
    },
    {
      "cell_type": "code",
      "source": [
        "def mean_return(env, pi, n_episodes=100, max_steps=200):\n",
        "    random.seed(123); np.random.seed(123) ; env.seed(123)\n",
        "    results = []\n",
        "    for _ in range(n_episodes):\n",
        "        state, done, steps = env.reset(), False, 0\n",
        "        results.append(0.0)\n",
        "        while not done and steps < max_steps:\n",
        "            state, reward, done, _ = env.step(pi(state))\n",
        "            results[-1] += reward\n",
        "            steps += 1\n",
        "    return np.mean(results)"
      ],
      "metadata": {
        "id": "n1FDjRvho2Gr"
      },
      "execution_count": 6,
      "outputs": []
    },
    {
      "cell_type": "code",
      "source": [
        "def results(env,optimal_pi,optimal_V,P):\n",
        "    print('Policy and State-Value function (PI):')\n",
        "    print_policy(optimal_pi, P, action_symbols=('<', '>'), n_cols=7)\n",
        "\n",
        "    print()\n",
        "\n",
        "    print_state_value_function(optimal_V, P, n_cols=7, prec=5)\n",
        "\n",
        "    print()\n",
        "\n",
        "    print('Reaches goal {:.2f}%. Obtains an average undiscounted return of {:.4f}.'.format(\n",
        "    probability_success(env, optimal_pi, goal_state=goal_state)*100,\n",
        "    mean_return(env, optimal_pi)))\n"
      ],
      "metadata": {
        "id": "4SNLUxtepQQQ"
      },
      "execution_count": 7,
      "outputs": []
    },
    {
      "cell_type": "markdown",
      "source": [
        "Slippery Walk Five MDP"
      ],
      "metadata": {
        "id": "n-RtBpItpRVD"
      }
    },
    {
      "cell_type": "code",
      "source": [
        "env = gym.make('SlipperyWalkFive-v0')\n",
        "P = env.env.P\n",
        "init_state = env.reset()\n",
        "goal_state = 6\n",
        "LEFT, RIGHT = range(2)"
      ],
      "metadata": {
        "id": "Xs_Se-qdpT_m"
      },
      "execution_count": 8,
      "outputs": []
    },
    {
      "cell_type": "code",
      "source": [
        "P"
      ],
      "metadata": {
        "id": "MsCQ2ccQpUDG",
        "outputId": "e2438537-7be7-41ac-cc8c-6a00af2c4345",
        "colab": {
          "base_uri": "https://localhost:8080/"
        }
      },
      "execution_count": 9,
      "outputs": [
        {
          "output_type": "execute_result",
          "data": {
            "text/plain": [
              "{0: {0: [(0.5000000000000001, 0, 0.0, True),\n",
              "   (0.3333333333333333, 0, 0.0, True),\n",
              "   (0.16666666666666666, 0, 0.0, True)],\n",
              "  1: [(0.5000000000000001, 0, 0.0, True),\n",
              "   (0.3333333333333333, 0, 0.0, True),\n",
              "   (0.16666666666666666, 0, 0.0, True)]},\n",
              " 1: {0: [(0.5000000000000001, 0, 0.0, True),\n",
              "   (0.3333333333333333, 1, 0.0, False),\n",
              "   (0.16666666666666666, 2, 0.0, False)],\n",
              "  1: [(0.5000000000000001, 2, 0.0, False),\n",
              "   (0.3333333333333333, 1, 0.0, False),\n",
              "   (0.16666666666666666, 0, 0.0, True)]},\n",
              " 2: {0: [(0.5000000000000001, 1, 0.0, False),\n",
              "   (0.3333333333333333, 2, 0.0, False),\n",
              "   (0.16666666666666666, 3, 0.0, False)],\n",
              "  1: [(0.5000000000000001, 3, 0.0, False),\n",
              "   (0.3333333333333333, 2, 0.0, False),\n",
              "   (0.16666666666666666, 1, 0.0, False)]},\n",
              " 3: {0: [(0.5000000000000001, 2, 0.0, False),\n",
              "   (0.3333333333333333, 3, 0.0, False),\n",
              "   (0.16666666666666666, 4, 0.0, False)],\n",
              "  1: [(0.5000000000000001, 4, 0.0, False),\n",
              "   (0.3333333333333333, 3, 0.0, False),\n",
              "   (0.16666666666666666, 2, 0.0, False)]},\n",
              " 4: {0: [(0.5000000000000001, 3, 0.0, False),\n",
              "   (0.3333333333333333, 4, 0.0, False),\n",
              "   (0.16666666666666666, 5, 0.0, False)],\n",
              "  1: [(0.5000000000000001, 5, 0.0, False),\n",
              "   (0.3333333333333333, 4, 0.0, False),\n",
              "   (0.16666666666666666, 3, 0.0, False)]},\n",
              " 5: {0: [(0.5000000000000001, 4, 0.0, False),\n",
              "   (0.3333333333333333, 5, 0.0, False),\n",
              "   (0.16666666666666666, 6, 1.0, True)],\n",
              "  1: [(0.5000000000000001, 6, 1.0, True),\n",
              "   (0.3333333333333333, 5, 0.0, False),\n",
              "   (0.16666666666666666, 4, 0.0, False)]},\n",
              " 6: {0: [(0.5000000000000001, 6, 0.0, True),\n",
              "   (0.3333333333333333, 6, 0.0, True),\n",
              "   (0.16666666666666666, 6, 0.0, True)],\n",
              "  1: [(0.5000000000000001, 6, 0.0, True),\n",
              "   (0.3333333333333333, 6, 0.0, True),\n",
              "   (0.16666666666666666, 6, 0.0, True)]}}"
            ]
          },
          "metadata": {},
          "execution_count": 9
        }
      ]
    },
    {
      "cell_type": "code",
      "source": [
        "init_state"
      ],
      "metadata": {
        "id": "7OshL0VQpUKo",
        "outputId": "6804984a-08ae-495f-b5bb-168ed74c8b9e",
        "colab": {
          "base_uri": "https://localhost:8080/"
        }
      },
      "execution_count": 10,
      "outputs": [
        {
          "output_type": "execute_result",
          "data": {
            "text/plain": [
              "3"
            ]
          },
          "metadata": {},
          "execution_count": 10
        }
      ]
    },
    {
      "cell_type": "code",
      "source": [
        "\n",
        "state, reward, done, info = env.step(RIGHT)\n",
        "print(\"state:{0} - reward:{1} - done:{2} - info:{3}\".format(state, reward, done, info))"
      ],
      "metadata": {
        "id": "zzVPnXvRpUOF",
        "outputId": "56967a18-9e48-44b7-adf0-9e7b4a80960e",
        "colab": {
          "base_uri": "https://localhost:8080/"
        }
      },
      "execution_count": 11,
      "outputs": [
        {
          "output_type": "stream",
          "name": "stdout",
          "text": [
            "state:4 - reward:0.0 - done:False - info:{'prob': 0.5000000000000001}\n"
          ]
        }
      ]
    },
    {
      "cell_type": "code",
      "source": [
        "\n",
        "# Adversarial Policy\n",
        "pi_1 = lambda s: {\n",
        "    0:LEFT, 1:LEFT, 2:LEFT, 3:LEFT, 4:LEFT, 5:LEFT, 6:LEFT\n",
        "}[s]\n",
        "print_policy(pi_1, P, action_symbols=('<', '>'), n_cols=7)"
      ],
      "metadata": {
        "id": "ddte2J6Wpfus",
        "outputId": "ac5619b7-5419-49c7-ac4c-b261c97a150f",
        "colab": {
          "base_uri": "https://localhost:8080/"
        }
      },
      "execution_count": 12,
      "outputs": [
        {
          "output_type": "stream",
          "name": "stdout",
          "text": [
            "Policy:\n",
            "|           | 01      < | 02      < | 03      < | 04      < | 05      < |           |\n"
          ]
        }
      ]
    },
    {
      "cell_type": "code",
      "source": [
        "print('Reaches goal {:.2f}%. Obtains an average undiscounted return of {:.4f}.'.format(\n",
        "    probability_success(env, pi_1, goal_state=goal_state)*100,\n",
        "    mean_return(env, pi_1)))"
      ],
      "metadata": {
        "id": "2w8rYbItpfw4",
        "outputId": "3f739e18-9038-4517-9e34-19b9e9660d62",
        "colab": {
          "base_uri": "https://localhost:8080/"
        }
      },
      "execution_count": 13,
      "outputs": [
        {
          "output_type": "stream",
          "name": "stdout",
          "text": [
            "Reaches goal 3.00%. Obtains an average undiscounted return of 0.0300.\n"
          ]
        }
      ]
    },
    {
      "cell_type": "markdown",
      "source": [
        "Policy Evaluation"
      ],
      "metadata": {
        "id": "5RfM2BnTpns2"
      }
    },
    {
      "cell_type": "code",
      "source": [
        "def policy_evaluation(pi, P, gamma=0.9, theta=1e-10):\n",
        "    prev_V = np.zeros(len(P), dtype=np.float64)\n",
        "    while True:\n",
        "        V = np.zeros(len(P), dtype=np.float64)\n",
        "        for s in range(len(P)):\n",
        "            for prob, next_state, reward, done in P[s][pi(s)]:\n",
        "                V[s] += prob * (reward + gamma * prev_V[next_state] * (not done))\n",
        "        if np.max(np.abs(prev_V - V)) < theta:\n",
        "            break\n",
        "        prev_V = V.copy()\n",
        "    return V"
      ],
      "metadata": {
        "id": "0kManhQtpfzQ"
      },
      "execution_count": 14,
      "outputs": []
    },
    {
      "cell_type": "code",
      "source": [
        "# Code to evaluate the adversarial policy\n",
        "V1 = policy_evaluation(pi_1, P)\n",
        "print_state_value_function(V1, P, n_cols=7, prec=5)\n",
        ""
      ],
      "metadata": {
        "id": "h85pPCCqpf2w",
        "outputId": "a106ca80-a025-4fb0-8f23-838d982e9502",
        "colab": {
          "base_uri": "https://localhost:8080/"
        }
      },
      "execution_count": 15,
      "outputs": [
        {
          "output_type": "stream",
          "name": "stdout",
          "text": [
            "State-value function:\n",
            "|           | 01 0.00099 | 02 0.00463 | 03 0.01863 | 04 0.07306 | 05 0.28506 |           |\n"
          ]
        }
      ]
    },
    {
      "cell_type": "markdown",
      "source": [
        "Policy Improvement"
      ],
      "metadata": {
        "id": "-Ayi_YMwp4GX"
      }
    },
    {
      "cell_type": "code",
      "source": [
        "def policy_improvement(V, P, gamma=0.9):\n",
        "    Q = np.zeros((len(P), len(P[0])), dtype=np.float64)\n",
        "    for s in range(len(P)):\n",
        "        for a in range(len(P[s])):\n",
        "            for prob,next_state,reward,done in P[s][a]:\n",
        "                Q[s][a]+= prob* (reward + gamma * V[next_state]*(not done))\n",
        "    new_pi=lambda s:{s:a for s,a in enumerate(np.argmax(Q,axis=1))}[s]\n",
        "    return new_pi"
      ],
      "metadata": {
        "id": "IyW-z7EPpySL"
      },
      "execution_count": 16,
      "outputs": []
    },
    {
      "cell_type": "code",
      "source": [
        "pi_2 = policy_improvement(V1, P)\n",
        "V2 = policy_evaluation(pi_2, P)\n",
        "results(env,pi_2,V2,P)"
      ],
      "metadata": {
        "id": "XMk5V0jCpyVu",
        "outputId": "e6d2961e-5d52-4f7e-d5a2-6583189d86cc",
        "colab": {
          "base_uri": "https://localhost:8080/"
        }
      },
      "execution_count": 17,
      "outputs": [
        {
          "output_type": "stream",
          "name": "stdout",
          "text": [
            "Policy and State-Value function (PI):\n",
            "Policy:\n",
            "|           | 01      > | 02      > | 03      > | 04      > | 05      > |           |\n",
            "\n",
            "State-value function:\n",
            "|           | 01 0.24113 | 02 0.3751 | 03 0.50311 | 04 0.65758 | 05 0.85519 |           |\n",
            "\n",
            "Reaches goal 97.00%. Obtains an average undiscounted return of 0.9700.\n"
          ]
        }
      ]
    },
    {
      "cell_type": "code",
      "source": [
        "# comparing the initial and the improved policy\n",
        "if(np.sum(V1>=V2)==7):\n",
        "  print(\"The first policy is the better policy\")\n",
        "elif(np.sum(V2>=V1)==7):\n",
        "  print(\"The second policy is the better policy\")\n",
        "else:\n",
        "  print(\"Both policies have their merits.\")"
      ],
      "metadata": {
        "id": "sp5ekUdtqAgh",
        "outputId": "4449905c-9376-4cea-dd01-65b7730e5823",
        "colab": {
          "base_uri": "https://localhost:8080/"
        }
      },
      "execution_count": 18,
      "outputs": [
        {
          "output_type": "stream",
          "name": "stdout",
          "text": [
            "The second policy is the better policy\n"
          ]
        }
      ]
    },
    {
      "cell_type": "markdown",
      "source": [
        "Policy Iteration"
      ],
      "metadata": {
        "id": "YqSC1r03qCvW"
      }
    },
    {
      "cell_type": "code",
      "source": [
        "def policy_iteration(P, gamma=1.0, theta=1e-10):\n",
        "    random_actions = np.random.choice(tuple(P[0].keys()), len(P))\n",
        "    pi=lambda s:{s:a for s,a in enumerate(random_actions)}[s]\n",
        "    while True:\n",
        "        old_pi={s:pi(s) for s in range(len(P))}\n",
        "        V=policy_evaluation(pi,P,gamma,theta)\n",
        "        pi=policy_improvement(V,P,gamma)\n",
        "        if old_pi == {s:pi(s) for s in range(len(P))}:\n",
        "            break\n",
        "    return V, pi"
      ],
      "metadata": {
        "id": "M8JY4uJVqDuB"
      },
      "execution_count": 19,
      "outputs": []
    },
    {
      "cell_type": "code",
      "source": [
        "optimal_V, optimal_pi = policy_iteration(P)\n"
      ],
      "metadata": {
        "id": "jBMBCeYOqDxV"
      },
      "execution_count": 20,
      "outputs": []
    },
    {
      "cell_type": "code",
      "source": [
        "results(env,optimal_pi,optimal_V,P)\n"
      ],
      "metadata": {
        "id": "8JYnofqhqD4m",
        "outputId": "2c4a0315-a57d-465f-82ab-ba3b54babd8b",
        "colab": {
          "base_uri": "https://localhost:8080/"
        }
      },
      "execution_count": 21,
      "outputs": [
        {
          "output_type": "stream",
          "name": "stdout",
          "text": [
            "Policy and State-Value function (PI):\n",
            "Policy:\n",
            "|           | 01      > | 02      > | 03      > | 04      > | 05      > |           |\n",
            "\n",
            "State-value function:\n",
            "|           | 01 0.66758 | 02 0.89011 | 03 0.96429 | 04 0.98901 | 05 0.99725 |           |\n",
            "\n",
            "Reaches goal 97.00%. Obtains an average undiscounted return of 0.9700.\n"
          ]
        }
      ]
    },
    {
      "cell_type": "code",
      "source": [],
      "metadata": {
        "id": "f8pnx1MUqD71"
      },
      "execution_count": null,
      "outputs": []
    }
  ],
  "metadata": {
    "colab": {
      "name": "Welcome To Colaboratory",
      "toc_visible": true,
      "provenance": []
    },
    "kernelspec": {
      "display_name": "Python 3",
      "name": "python3"
    }
  },
  "nbformat": 4,
  "nbformat_minor": 0
}